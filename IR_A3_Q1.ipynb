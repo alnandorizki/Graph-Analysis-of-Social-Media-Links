{
  "nbformat": 4,
  "nbformat_minor": 0,
  "metadata": {
    "colab": {
      "provenance": [],
      "authorship_tag": "ABX9TyN3UXLWvL1uOKG8mCKIv5am",
      "include_colab_link": true
    },
    "kernelspec": {
      "name": "python3",
      "display_name": "Python 3"
    },
    "language_info": {
      "name": "python"
    }
  },
  "cells": [
    {
      "cell_type": "markdown",
      "metadata": {
        "id": "view-in-github",
        "colab_type": "text"
      },
      "source": [
        "<a href=\"https://colab.research.google.com/github/utkar22/CSE508_Winter2023_A3_48/blob/main/IR_A3_Q1.ipynb\" target=\"_parent\"><img src=\"https://colab.research.google.com/assets/colab-badge.svg\" alt=\"Open In Colab\"/></a>"
      ]
    },
    {
      "cell_type": "markdown",
      "source": [
        "Navigate to the folder IR_A3 on my drive"
      ],
      "metadata": {
        "id": "WLinRYCgSYL-"
      }
    },
    {
      "cell_type": "code",
      "execution_count": 1,
      "metadata": {
        "colab": {
          "base_uri": "https://localhost:8080/"
        },
        "id": "ZkE6DS3rSFRT",
        "outputId": "78d0bcf8-9cc7-41c9-ae77-a677ffb174de"
      },
      "outputs": [
        {
          "output_type": "stream",
          "name": "stdout",
          "text": [
            "Mounted at /content/drive\n",
            "/content/drive/MyDrive/IR_A3\n"
          ]
        }
      ],
      "source": [
        "from google.colab import drive\n",
        "drive.mount('/content/drive')\n",
        "%cd /content/drive/MyDrive/IR_A3"
      ]
    },
    {
      "cell_type": "code",
      "source": [
        "import pandas as pd"
      ],
      "metadata": {
        "id": "AtmD5hjJSoSG"
      },
      "execution_count": 2,
      "outputs": []
    },
    {
      "cell_type": "code",
      "source": [
        "df = pd.read_csv('reddit.tsv', sep='\\t')"
      ],
      "metadata": {
        "id": "7xdQxSamSvpI"
      },
      "execution_count": 3,
      "outputs": []
    },
    {
      "cell_type": "code",
      "source": [
        "df.head()"
      ],
      "metadata": {
        "colab": {
          "base_uri": "https://localhost:8080/",
          "height": 206
        },
        "id": "JaUvhAsWTHev",
        "outputId": "eab6ee0f-da30-4073-c5c5-4432d80b1ab7"
      },
      "execution_count": 4,
      "outputs": [
        {
          "output_type": "execute_result",
          "data": {
            "text/plain": [
              "  SOURCE_SUBREDDIT TARGET_SUBREDDIT  POST_ID            TIMESTAMP  \\\n",
              "0  leagueoflegends  teamredditteams  1u4nrps  2013-12-31 16:39:58   \n",
              "1       theredlion           soccer   1u4qkd  2013-12-31 18:18:37   \n",
              "2     inlandempire           bikela  1u4qlzs  2014-01-01 14:54:35   \n",
              "3              nfl              cfb  1u4sjvs  2013-12-31 17:37:55   \n",
              "4       playmygame          gamedev  1u4w5ss  2014-01-01 02:51:13   \n",
              "\n",
              "   LINK_SENTIMENT                                         PROPERTIES  \n",
              "0               1  345.0,298.0,0.75652173913,0.0173913043478,0.08...  \n",
              "1              -1  101.0,98.0,0.742574257426,0.019801980198,0.049...  \n",
              "2               1  85.0,85.0,0.752941176471,0.0235294117647,0.082...  \n",
              "3               1  1124.0,949.0,0.772241992883,0.0017793594306,0....  \n",
              "4               1  715.0,622.0,0.777622377622,0.00699300699301,0....  "
            ],
            "text/html": [
              "\n",
              "  <div id=\"df-8632b897-a39e-47e7-a8a4-794ed6579580\">\n",
              "    <div class=\"colab-df-container\">\n",
              "      <div>\n",
              "<style scoped>\n",
              "    .dataframe tbody tr th:only-of-type {\n",
              "        vertical-align: middle;\n",
              "    }\n",
              "\n",
              "    .dataframe tbody tr th {\n",
              "        vertical-align: top;\n",
              "    }\n",
              "\n",
              "    .dataframe thead th {\n",
              "        text-align: right;\n",
              "    }\n",
              "</style>\n",
              "<table border=\"1\" class=\"dataframe\">\n",
              "  <thead>\n",
              "    <tr style=\"text-align: right;\">\n",
              "      <th></th>\n",
              "      <th>SOURCE_SUBREDDIT</th>\n",
              "      <th>TARGET_SUBREDDIT</th>\n",
              "      <th>POST_ID</th>\n",
              "      <th>TIMESTAMP</th>\n",
              "      <th>LINK_SENTIMENT</th>\n",
              "      <th>PROPERTIES</th>\n",
              "    </tr>\n",
              "  </thead>\n",
              "  <tbody>\n",
              "    <tr>\n",
              "      <th>0</th>\n",
              "      <td>leagueoflegends</td>\n",
              "      <td>teamredditteams</td>\n",
              "      <td>1u4nrps</td>\n",
              "      <td>2013-12-31 16:39:58</td>\n",
              "      <td>1</td>\n",
              "      <td>345.0,298.0,0.75652173913,0.0173913043478,0.08...</td>\n",
              "    </tr>\n",
              "    <tr>\n",
              "      <th>1</th>\n",
              "      <td>theredlion</td>\n",
              "      <td>soccer</td>\n",
              "      <td>1u4qkd</td>\n",
              "      <td>2013-12-31 18:18:37</td>\n",
              "      <td>-1</td>\n",
              "      <td>101.0,98.0,0.742574257426,0.019801980198,0.049...</td>\n",
              "    </tr>\n",
              "    <tr>\n",
              "      <th>2</th>\n",
              "      <td>inlandempire</td>\n",
              "      <td>bikela</td>\n",
              "      <td>1u4qlzs</td>\n",
              "      <td>2014-01-01 14:54:35</td>\n",
              "      <td>1</td>\n",
              "      <td>85.0,85.0,0.752941176471,0.0235294117647,0.082...</td>\n",
              "    </tr>\n",
              "    <tr>\n",
              "      <th>3</th>\n",
              "      <td>nfl</td>\n",
              "      <td>cfb</td>\n",
              "      <td>1u4sjvs</td>\n",
              "      <td>2013-12-31 17:37:55</td>\n",
              "      <td>1</td>\n",
              "      <td>1124.0,949.0,0.772241992883,0.0017793594306,0....</td>\n",
              "    </tr>\n",
              "    <tr>\n",
              "      <th>4</th>\n",
              "      <td>playmygame</td>\n",
              "      <td>gamedev</td>\n",
              "      <td>1u4w5ss</td>\n",
              "      <td>2014-01-01 02:51:13</td>\n",
              "      <td>1</td>\n",
              "      <td>715.0,622.0,0.777622377622,0.00699300699301,0....</td>\n",
              "    </tr>\n",
              "  </tbody>\n",
              "</table>\n",
              "</div>\n",
              "      <button class=\"colab-df-convert\" onclick=\"convertToInteractive('df-8632b897-a39e-47e7-a8a4-794ed6579580')\"\n",
              "              title=\"Convert this dataframe to an interactive table.\"\n",
              "              style=\"display:none;\">\n",
              "        \n",
              "  <svg xmlns=\"http://www.w3.org/2000/svg\" height=\"24px\"viewBox=\"0 0 24 24\"\n",
              "       width=\"24px\">\n",
              "    <path d=\"M0 0h24v24H0V0z\" fill=\"none\"/>\n",
              "    <path d=\"M18.56 5.44l.94 2.06.94-2.06 2.06-.94-2.06-.94-.94-2.06-.94 2.06-2.06.94zm-11 1L8.5 8.5l.94-2.06 2.06-.94-2.06-.94L8.5 2.5l-.94 2.06-2.06.94zm10 10l.94 2.06.94-2.06 2.06-.94-2.06-.94-.94-2.06-.94 2.06-2.06.94z\"/><path d=\"M17.41 7.96l-1.37-1.37c-.4-.4-.92-.59-1.43-.59-.52 0-1.04.2-1.43.59L10.3 9.45l-7.72 7.72c-.78.78-.78 2.05 0 2.83L4 21.41c.39.39.9.59 1.41.59.51 0 1.02-.2 1.41-.59l7.78-7.78 2.81-2.81c.8-.78.8-2.07 0-2.86zM5.41 20L4 18.59l7.72-7.72 1.47 1.35L5.41 20z\"/>\n",
              "  </svg>\n",
              "      </button>\n",
              "      \n",
              "  <style>\n",
              "    .colab-df-container {\n",
              "      display:flex;\n",
              "      flex-wrap:wrap;\n",
              "      gap: 12px;\n",
              "    }\n",
              "\n",
              "    .colab-df-convert {\n",
              "      background-color: #E8F0FE;\n",
              "      border: none;\n",
              "      border-radius: 50%;\n",
              "      cursor: pointer;\n",
              "      display: none;\n",
              "      fill: #1967D2;\n",
              "      height: 32px;\n",
              "      padding: 0 0 0 0;\n",
              "      width: 32px;\n",
              "    }\n",
              "\n",
              "    .colab-df-convert:hover {\n",
              "      background-color: #E2EBFA;\n",
              "      box-shadow: 0px 1px 2px rgba(60, 64, 67, 0.3), 0px 1px 3px 1px rgba(60, 64, 67, 0.15);\n",
              "      fill: #174EA6;\n",
              "    }\n",
              "\n",
              "    [theme=dark] .colab-df-convert {\n",
              "      background-color: #3B4455;\n",
              "      fill: #D2E3FC;\n",
              "    }\n",
              "\n",
              "    [theme=dark] .colab-df-convert:hover {\n",
              "      background-color: #434B5C;\n",
              "      box-shadow: 0px 1px 3px 1px rgba(0, 0, 0, 0.15);\n",
              "      filter: drop-shadow(0px 1px 2px rgba(0, 0, 0, 0.3));\n",
              "      fill: #FFFFFF;\n",
              "    }\n",
              "  </style>\n",
              "\n",
              "      <script>\n",
              "        const buttonEl =\n",
              "          document.querySelector('#df-8632b897-a39e-47e7-a8a4-794ed6579580 button.colab-df-convert');\n",
              "        buttonEl.style.display =\n",
              "          google.colab.kernel.accessAllowed ? 'block' : 'none';\n",
              "\n",
              "        async function convertToInteractive(key) {\n",
              "          const element = document.querySelector('#df-8632b897-a39e-47e7-a8a4-794ed6579580');\n",
              "          const dataTable =\n",
              "            await google.colab.kernel.invokeFunction('convertToInteractive',\n",
              "                                                     [key], {});\n",
              "          if (!dataTable) return;\n",
              "\n",
              "          const docLinkHtml = 'Like what you see? Visit the ' +\n",
              "            '<a target=\"_blank\" href=https://colab.research.google.com/notebooks/data_table.ipynb>data table notebook</a>'\n",
              "            + ' to learn more about interactive tables.';\n",
              "          element.innerHTML = '';\n",
              "          dataTable['output_type'] = 'display_data';\n",
              "          await google.colab.output.renderOutput(dataTable, element);\n",
              "          const docLink = document.createElement('div');\n",
              "          docLink.innerHTML = docLinkHtml;\n",
              "          element.appendChild(docLink);\n",
              "        }\n",
              "      </script>\n",
              "    </div>\n",
              "  </div>\n",
              "  "
            ]
          },
          "metadata": {},
          "execution_count": 4
        }
      ]
    },
    {
      "cell_type": "markdown",
      "source": [
        "Creating a list of all the subreddits"
      ],
      "metadata": {
        "id": "pCLVoCj6TyZ8"
      }
    },
    {
      "cell_type": "code",
      "source": [
        "all_subs = []\n",
        "for i in df[\"SOURCE_SUBREDDIT\"]:\n",
        "    if i not in all_subs:\n",
        "        all_subs.append(i)\n",
        "\n",
        "for i in df[\"TARGET_SUBREDDIT\"]:\n",
        "    if i not in all_subs:\n",
        "        all_subs.append(i)"
      ],
      "metadata": {
        "id": "inLyaARaTMKt"
      },
      "execution_count": 8,
      "outputs": []
    },
    {
      "cell_type": "markdown",
      "source": [
        "Mapping the name of the subreddit to the index in the array"
      ],
      "metadata": {
        "id": "6fIYqfJXUPdR"
      }
    },
    {
      "cell_type": "code",
      "source": [
        "sub_index = {}\n",
        "for i in range(len(all_subs)):\n",
        "    sub_index[all_subs[i]] = i"
      ],
      "metadata": {
        "id": "vadH7yHbTUCO"
      },
      "execution_count": 10,
      "outputs": []
    },
    {
      "cell_type": "code",
      "source": [
        "num_nodes = len(all_subs)"
      ],
      "metadata": {
        "id": "4ShKJr1bVYsz"
      },
      "execution_count": 11,
      "outputs": []
    },
    {
      "cell_type": "code",
      "source": [
        "adj_matrix = []\n",
        "for i in range(num_nodes):\n",
        "    curr = []\n",
        "    for j in range(num_nodes):\n",
        "        curr.append(0)\n",
        "    adj_matrix.append(curr)\n",
        "\n",
        "edge_list = []"
      ],
      "metadata": {
        "id": "SaMx7t5lUUD_"
      },
      "execution_count": 12,
      "outputs": []
    },
    {
      "cell_type": "code",
      "source": [
        "for index, row in df.iterrows():\n",
        "    sub1 = row[0]\n",
        "    sub2 = row[1]\n",
        "\n",
        "    id1 = sub_index[sub1]\n",
        "    id2 = sub_index[sub2]\n",
        "\n",
        "    tup = (id1,id2)\n",
        "\n",
        "    adj_matrix[id1][id2] = 1\n",
        "    \n",
        "    if tup not in edge_list:\n",
        "        edge_list.append(tup)"
      ],
      "metadata": {
        "id": "o6w5EUpcWVkU"
      },
      "execution_count": 14,
      "outputs": []
    },
    {
      "cell_type": "markdown",
      "source": [
        "The number of nodes in the graph"
      ],
      "metadata": {
        "id": "Kn7UDQ0mYD9n"
      }
    },
    {
      "cell_type": "code",
      "source": [
        "print(f\"The number of nodes is: {num_nodes}\")"
      ],
      "metadata": {
        "colab": {
          "base_uri": "https://localhost:8080/"
        },
        "id": "KYwC7PcuXE0L",
        "outputId": "8b23561c-7ea6-4c42-af67-ad610d504492"
      },
      "execution_count": 15,
      "outputs": [
        {
          "output_type": "stream",
          "name": "stdout",
          "text": [
            "The number of nodes is: 35776\n"
          ]
        }
      ]
    },
    {
      "cell_type": "markdown",
      "source": [
        "The number of edges in the graph"
      ],
      "metadata": {
        "id": "DL04aURSYICf"
      }
    },
    {
      "cell_type": "code",
      "source": [
        "num_edges = len(edge_list)\n",
        "print(f\"The number of edges is: {num_edges}\")"
      ],
      "metadata": {
        "colab": {
          "base_uri": "https://localhost:8080/"
        },
        "id": "McwQwtFnXLlP",
        "outputId": "bf308ac0-5f2b-40b6-8851-6ca8bacf8a19"
      },
      "execution_count": 16,
      "outputs": [
        {
          "output_type": "stream",
          "name": "stdout",
          "text": [
            "The number of edges is: 137821\n"
          ]
        }
      ]
    },
    {
      "cell_type": "markdown",
      "source": [
        "Average In-Degree: In a directed network, the in-degree of a node is the number of incoming edges to that node. The average in-degree of a network is the sum of in-degrees for all nodes divided by the total number of nodes in the network."
      ],
      "metadata": {
        "id": "16bvmISgZNmA"
      }
    },
    {
      "cell_type": "code",
      "source": [
        "avg_in_degree = num_edges/num_nodes\n",
        "print(f\"The average in-degree is: {avg_in_degree}\")"
      ],
      "metadata": {
        "colab": {
          "base_uri": "https://localhost:8080/"
        },
        "id": "qoKdIZYlZNIR",
        "outputId": "45713507-b5cf-4458-ecdc-5cf43e82c185"
      },
      "execution_count": 18,
      "outputs": [
        {
          "output_type": "stream",
          "name": "stdout",
          "text": [
            "The average in-degree is: 3.8523311717352415\n"
          ]
        }
      ]
    },
    {
      "cell_type": "markdown",
      "source": [
        "Average Out-Degree: In a directed network, the out-degree of a node is the number of outgoing edges from that node. The average out-degree of a network is the sum of out-degrees for all nodes divided by the total number of nodes in the network."
      ],
      "metadata": {
        "id": "cAI3gsyzZzB2"
      }
    },
    {
      "cell_type": "code",
      "source": [
        "avg_out_degree = num_edges/num_nodes\n",
        "print(f\"The average out-degree is: {avg_out_degree}\")"
      ],
      "metadata": {
        "colab": {
          "base_uri": "https://localhost:8080/"
        },
        "id": "kG81pfQBZwNk",
        "outputId": "26787486-c801-437b-fdd4-c625bedfbbd6"
      },
      "execution_count": 20,
      "outputs": [
        {
          "output_type": "stream",
          "name": "stdout",
          "text": [
            "The average out-degree is: 3.8523311717352415\n"
          ]
        }
      ]
    },
    {
      "cell_type": "markdown",
      "source": [
        "Node with Maximum In-Degree: In a directed network, the node with the maximum in-degree is the node that has the highest number of incoming edges."
      ],
      "metadata": {
        "id": "JKQcnUegaNBF"
      }
    },
    {
      "cell_type": "code",
      "source": [
        "max_in_degree = 0\n",
        "max_in_degree_node = None\n",
        "\n",
        "for j in range(num_nodes):\n",
        "    curr_node = all_subs[j]\n",
        "    curr_in_degree = 0\n",
        "    for i in range(num_nodes):\n",
        "        curr_in_degree+=adj_matrix[i][j]\n",
        "\n",
        "    if (curr_in_degree>max_in_degree):\n",
        "        max_in_degree = curr_in_degree\n",
        "        max_in_degree_node = curr_node\n",
        "\n",
        "print(f\"The node with the maximum in degree is {max_in_degree_node} with an in degree of {max_in_degree}\")"
      ],
      "metadata": {
        "colab": {
          "base_uri": "https://localhost:8080/"
        },
        "id": "elzhyIpNaQK9",
        "outputId": "b2c2d9f1-8395-4098-90c5-1d55cfce6fb3"
      },
      "execution_count": 21,
      "outputs": [
        {
          "output_type": "stream",
          "name": "stdout",
          "text": [
            "The node with the maximum in degree is askreddit with an in degree of 2161\n"
          ]
        }
      ]
    },
    {
      "cell_type": "markdown",
      "source": [
        "Node with Maximum Out-Degree: In a directed network, the node with the maximum out-degree is the node that has the highest number of outgoing edges."
      ],
      "metadata": {
        "id": "DcNwZhsTb6CB"
      }
    },
    {
      "cell_type": "code",
      "source": [
        "out_degree_dict = {}\n",
        "\n",
        "max_out_degree = 0\n",
        "max_out_degree_node = None\n",
        "\n",
        "for i in range(num_nodes):\n",
        "    curr_node = all_subs[i]\n",
        "    curr_out_degree = sum(adj_matrix[i])\n",
        "\n",
        "    if (curr_out_degree > max_out_degree):\n",
        "        max_out_degree = curr_out_degree\n",
        "        max_out_degree_node = curr_node\n",
        "\n",
        "    if curr_out_degree not in out_degree_dict:\n",
        "        out_degree_dict[curr_out_degree] = 0\n",
        "    out_degree_dict[curr_out_degree]+=1\n",
        "\n",
        "print(f\"The Maximum Out-Degree is {max_out_degree}. One of the nodes with this out degree is {max_out_degree_node}\")"
      ],
      "metadata": {
        "colab": {
          "base_uri": "https://localhost:8080/"
        },
        "id": "11f0HbZAb5bp",
        "outputId": "a84dc68b-4b5c-4602-88cf-fc2042cffd5d"
      },
      "execution_count": 22,
      "outputs": [
        {
          "output_type": "stream",
          "name": "stdout",
          "text": [
            "The Maximum Out-Degree is 1350. One of the nodes with this out degree is subredditdrama\n"
          ]
        }
      ]
    },
    {
      "cell_type": "markdown",
      "source": [
        "Density of the Network: In a network, the density is the proportion of the total number of edges that are present in the network to the total number of possible edges that could exist."
      ],
      "metadata": {
        "id": "rwTFNG8hdTj4"
      }
    },
    {
      "cell_type": "code",
      "source": [
        "max_edges = num_nodes*(num_nodes - 1)\n",
        "density = num_edges/max_edges\n",
        "print(f\"The density is: {density}\")"
      ],
      "metadata": {
        "colab": {
          "base_uri": "https://localhost:8080/"
        },
        "id": "1omIdK-6dURi",
        "outputId": "db8eddb3-5852-4829-da51-a10156dde819"
      },
      "execution_count": 23,
      "outputs": [
        {
          "output_type": "stream",
          "name": "stdout",
          "text": [
            "The density is: 0.00010768221304640787\n"
          ]
        }
      ]
    },
    {
      "cell_type": "markdown",
      "source": [
        "In degree distribution:"
      ],
      "metadata": {
        "id": "FZeyiDFoeVmG"
      }
    },
    {
      "cell_type": "code",
      "source": [
        "import matplotlib.pyplot as plt"
      ],
      "metadata": {
        "id": "F3Ppga1deZ2c"
      },
      "execution_count": 32,
      "outputs": []
    },
    {
      "cell_type": "markdown",
      "source": [
        "Out degree distribution"
      ],
      "metadata": {
        "id": "k4-wstZoedbE"
      }
    },
    {
      "cell_type": "code",
      "source": [
        "x = list(out_degree_dict.keys())\n",
        "x.sort()\n",
        "\n",
        "y=[]\n",
        "\n",
        "for i in range(len(x)):\n",
        "    curr = out_degree_dict[x[i]]\n",
        "    y.append(curr)\n",
        "\n",
        "plt.hist(x, weights=y, bins=30, alpha=0.5)\n",
        "plt.title('Histogram')\n",
        "plt.xlabel('Out degree')\n",
        "plt.ylabel('Frequency')\n",
        "plt.show()"
      ],
      "metadata": {
        "colab": {
          "base_uri": "https://localhost:8080/",
          "height": 472
        },
        "id": "987hmvRReck0",
        "outputId": "dd7253af-ad87-464b-e5c4-9b4b3e2adc93"
      },
      "execution_count": 38,
      "outputs": [
        {
          "output_type": "display_data",
          "data": {
            "text/plain": [
              "<Figure size 640x480 with 1 Axes>"
            ],
            "image/png": "[encoded data removed]"
          },
          "metadata": {}
        }
      ]
    },
    {
      "cell_type": "markdown",
      "source": [
        "Omitting the first 200 values"
      ],
      "metadata": {
        "id": "3F2Hut23gRRs"
      }
    },
    {
      "cell_type": "code",
      "source": [
        "x = x[150:]\n",
        "y = y[150:]\n",
        "\n",
        "plt.hist(x, weights=y, bins=30, alpha=0.5)\n",
        "plt.title('Histogram')\n",
        "plt.xlabel('Out degree')\n",
        "plt.ylabel('Frequency')\n",
        "plt.show()"
      ],
      "metadata": {
        "colab": {
          "base_uri": "https://localhost:8080/",
          "height": 472
        },
        "id": "dixY4t6tf2He",
        "outputId": "38f5ecf9-446f-48d8-d248-b5a74b1df8d0"
      },
      "execution_count": 39,
      "outputs": [
        {
          "output_type": "display_data",
          "data": {
            "text/plain": [
              "<Figure size 640x480 with 1 Axes>"
            ],
            "image/png": "[encoded data removed]"
          },
          "metadata": {}
        }
      ]
    }
  ]
}